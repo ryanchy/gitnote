{
 "cells": [
  {
   "cell_type": "code",
   "execution_count": 77,
   "id": "54f9771a",
   "metadata": {},
   "outputs": [
    {
     "name": "stdout",
     "output_type": "stream",
     "text": [
      "手机APP下载相关搜索：\n",
      ">\n",
      "历趣APP下载\n",
      "历趣APP下载\n",
      "https://www.liqucn.com/rj/\n"
     ]
    }
   ],
   "source": [
    "from pyquery import PyQuery as pq\n",
    "\n",
    "\n",
    "with open(\"liquwang\\lqw.html\", \"r\", encoding=\"utf-8\") as liqu:\n",
    "    content = liqu.read()\n",
    "\n",
    "doc = pq(content)\n",
    "\n",
    "\n",
    "print(doc(\"b\").eq(4).text())\n",
    "print(doc(\"b\").html())\n",
    "print(doc(\"p\").filter(\".pos\").eq(0).find(\"a\").eq(0).text())\n",
    "print(doc(\"p a\").eq(0).text())\n",
    "# print(doc(\"[class=order]\").eq(2).attr(\"href\"))\n",
    "print(doc(\"[class=order]\").find(\"a\").eq(0).attr(\"href\"))"
   ]
  }
 ],
 "metadata": {
  "kernelspec": {
   "display_name": "Python 3",
   "language": "python",
   "name": "python3"
  },
  "language_info": {
   "codemirror_mode": {
    "name": "ipython",
    "version": 3
   },
   "file_extension": ".py",
   "mimetype": "text/x-python",
   "name": "python",
   "nbconvert_exporter": "python",
   "pygments_lexer": "ipython3",
   "version": "3.7.6"
  }
 },
 "nbformat": 4,
 "nbformat_minor": 5
}
