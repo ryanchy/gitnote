{
 "cells": [
  {
   "cell_type": "code",
   "execution_count": 36,
   "id": "54f9771a",
   "metadata": {
    "scrolled": true
   },
   "outputs": [
    {
     "name": "stdout",
     "output_type": "stream",
     "text": [
      "手机APP下载相关搜索：\n",
      ">\n",
      "历趣APP下载\n",
      "历趣APP下载\n",
      "https://www.liqucn.com/rj/\n",
      "<p class=\"pos\">当前位置：<a href=\"https://www.liqucn.com/\">历趣APP下载</a><b>&gt;</b><a href=\"https://www.liqucn.com/rj/\">手机APP下载</a></p>\n",
      "\n",
      "<b>手机APP下载相关搜索：</b>\n",
      "\t\t\t\n",
      "<b>&gt;</b>\n",
      "https://www.liqucn.com/rj/new/?page=13812\n",
      "https://www.liqucn.com/rj/new/?page=12814\n",
      "https://www.liqucn.com/rj/new/?page=13812\n"
     ]
    }
   ],
   "source": [
    "from pyquery import PyQuery as pq\n",
    "# from selenium.webdriver import PhantomJS\n",
    "\n",
    "# #用selenium访问url\n",
    "# def selenium_opener(url):\n",
    "# \t driver = PhantomJS(executable_path = 'phantomjs的路径')\n",
    "# \t driver.get(url)\n",
    "# \t html = driver.page_source\n",
    "# \t driver.quit()\n",
    "# \t return html\n",
    "\t \n",
    "# #注意，使用时opener参数是函数名，没有括号的！\n",
    "# doc = pq(url='https://www.baidu.com/', opener=selenium_opener)\n",
    "\n",
    "with open(\"..\\..\\html\\liquwang\\lqw.html\", \"r\", encoding=\"utf-8\") as liqu:\n",
    "    content = liqu.read()\n",
    "\n",
    "doc = pq(content)\n",
    "\n",
    "\n",
    "print(doc(\"b\").eq(4).text())\n",
    "print(doc(\"b\").html())\n",
    "print(doc(\"p\").filter(\".pos\").eq(0).find(\"a\").eq(0).text())\n",
    "print(doc(\"p a\").eq(0).text())\n",
    "# print(doc(\"[class=order]\").eq(2).attr(\"href\"))\n",
    "print(doc(\"[class=order]\").find(\"a\").eq(0).attr(\"href\"))\n",
    "print(doc('p:contains(\"手机\")'))\n",
    "print(doc('div>b'))\n",
    "print(doc('p b'))\n",
    "totle = doc(\".page :nth-child(2)\").attr('href')\n",
    "print(totle)\n",
    "totle = doc(\"div a:contains('尾页')\").attr('href')\n",
    "print(totle)\n",
    "totle = doc(\"div\").filter(\".page\").find(\"a:contains('2')\").attr(\"href\")\n",
    "print(totle)\n"
   ]
  },
  {
   "cell_type": "code",
   "execution_count": null,
   "id": "30667b21",
   "metadata": {},
   "outputs": [],
   "source": []
  },
  {
   "cell_type": "code",
   "execution_count": null,
   "id": "0a114e3f",
   "metadata": {},
   "outputs": [],
   "source": []
  },
  {
   "cell_type": "code",
   "execution_count": null,
   "id": "d22f8c67",
   "metadata": {},
   "outputs": [],
   "source": []
  }
 ],
 "metadata": {
  "kernelspec": {
   "display_name": "Python 3",
   "language": "python",
   "name": "python3"
  },
  "language_info": {
   "codemirror_mode": {
    "name": "ipython",
    "version": 3
   },
   "file_extension": ".py",
   "mimetype": "text/x-python",
   "name": "python",
   "nbconvert_exporter": "python",
   "pygments_lexer": "ipython3",
   "version": "3.7.6"
  }
 },
 "nbformat": 4,
 "nbformat_minor": 5
}
