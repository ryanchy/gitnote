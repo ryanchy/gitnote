{
 "cells": [
  {
   "cell_type": "code",
   "execution_count": 3,
   "id": "reliable-house",
   "metadata": {},
   "outputs": [
    {
     "name": "stderr",
     "output_type": "stream",
     "text": [
      "WARNING:root:watch out\n",
      "ERROR:root:something error\n"
     ]
    }
   ],
   "source": [
    "import logging\n",
    "logging.basicConfig(level=\"warning\")\n",
    "logging.debug(\"debug\")\n",
    "logging.warning('watch out')\n",
    "logging.error(\"something error\")"
   ]
  }
 ],
 "metadata": {
  "kernelspec": {
   "display_name": "Python 3",
   "language": "python",
   "name": "python3"
  },
  "language_info": {
   "codemirror_mode": {
    "name": "ipython",
    "version": 3
   },
   "file_extension": ".py",
   "mimetype": "text/x-python",
   "name": "python",
   "nbconvert_exporter": "python",
   "pygments_lexer": "ipython3",
   "version": "3.8.5"
  }
 },
 "nbformat": 4,
 "nbformat_minor": 5
}
