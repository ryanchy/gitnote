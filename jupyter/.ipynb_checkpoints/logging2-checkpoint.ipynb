{
 "cells": [
  {
   "cell_type": "code",
   "execution_count": 10,
   "id": "acquired-tanzania",
   "metadata": {},
   "outputs": [
    {
     "name": "stderr",
     "output_type": "stream",
     "text": [
      "2021-03-23 21:48:32,986 - __main__ - ERROR - fesf\n",
      "2021-03-23 21:48:32,986 - __main__ - ERROR - fesf\n",
      "2021-03-23 21:48:32,986 - __main__ - ERROR - fesf\n",
      "2021-03-23 21:48:32,986 - __main__ - ERROR - fesf\n",
      "2021-03-23 21:48:32,986 - __main__ - ERROR - fesf\n",
      "2021-03-23 21:48:32,986 - __main__ - ERROR - fesf\n",
      "2021-03-23 21:48:32,986 - __main__ - ERROR - fesf\n",
      "2021-03-23 21:48:32,986 - __main__ - ERROR - fesf\n",
      "2021-03-23 21:48:32,986 - __main__ - ERROR - fesf\n",
      "2021-03-23 21:48:32,986 - 29 - __main__ - ERROR - fesf\n"
     ]
    }
   ],
   "source": [
    "import logging\n",
    "\n",
    "logger = logging.getLogger(__name__)\n",
    "formatter = logging.Formatter('%(asctime)s - %(lineno)d - %(name)s - %(levelname)s - %(message)s')\n",
    "SH = logging.StreamHandler()\n",
    "SH.setFormatter(formatter)\n",
    "SH.setLevel(20)\n",
    "logger.addHandler(SH)\n",
    "\n",
    "\n",
    "\n",
    "\n",
    "\n",
    "\n",
    "# from multiprocessing import Process\n",
    "# logger = logging.getLogger(__name__)\n",
    "# formatter = logging.Formatter('%(asctime)s - %(name)s - %(levelname)s - %(message)s')\n",
    "# FD = logging.FileHandler(\"1.log\")#创建日志文件处理对象\n",
    "# SD = logging.StreamHandler()#创建控制台日志处理对象\n",
    "# SD.setLevel(logging.INFO)\n",
    "# FD.setLevel(logging.INFO)\n",
    "# SD.setFormatter(formatter)\n",
    "# FD.setFormatter(formatter)\n",
    "# logger.addHandler(FD)\n",
    "# logger.addHandler(SD)\n",
    "# logging.basicConfig(level = logging.INFO,format = '%(asctime)s - %(name)s - %(levelname)s - %(message)s')\n",
    "# def test_log():\n",
    "#     pass\n",
    "logger.error(\"fesf\")\n",
    "if __name__ == \"__main__\":\n",
    "    logger.info(\"Start print log\")\n",
    "    logger.debug(\"Do something\")\n",
    "    #logger.warning(\"Something maybe fail.\")\n",
    "    logger.info(\"Finish\")\n",
    "    logger.debug(\"Do something\")\n",
    "#     test_log()\n",
    "    #p1 = Process(target=test_log)\n",
    "    #p2 = Process(target=test_log)\n",
    "    #p1.start()\n",
    "    #p1.join()\n",
    "    #p2.start()\n",
    "    #p2.join()     "
   ]
  },
  {
   "cell_type": "code",
   "execution_count": null,
   "id": "functioning-relay",
   "metadata": {},
   "outputs": [],
   "source": []
  }
 ],
 "metadata": {
  "kernelspec": {
   "display_name": "Python 3",
   "language": "python",
   "name": "python3"
  },
  "language_info": {
   "codemirror_mode": {
    "name": "ipython",
    "version": 3
   },
   "file_extension": ".py",
   "mimetype": "text/x-python",
   "name": "python",
   "nbconvert_exporter": "python",
   "pygments_lexer": "ipython3",
   "version": "3.8.5"
  }
 },
 "nbformat": 4,
 "nbformat_minor": 5
}
