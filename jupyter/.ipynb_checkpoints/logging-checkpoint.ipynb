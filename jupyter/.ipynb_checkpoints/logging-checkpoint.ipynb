{
 "cells": [
  {
   "cell_type": "code",
   "execution_count": 5,
   "id": "reliable-house",
   "metadata": {},
   "outputs": [
    {
     "name": "stderr",
     "output_type": "stream",
     "text": [
      "let us go\n",
      "let us go\n",
      "let us go\n",
      "let us go\n",
      "let us go\n"
     ]
    }
   ],
   "source": [
    "import logging  #导入logging模块\n",
    "logger = logging.getLogger(__name__)#创建logger对象\n",
    "formatter = logging.Formatter('%(asctime)s-%(name)s-%(levelname)s-%(massage)s')#统一日志格式\n",
    "# 参数：作用\n",
    "# %(levelno)s：打印日志级别的数值\n",
    "# %(levelname)s：打印日志级别的名称\n",
    "# %(pathname)s：打印当前执行程序的路径，其实就是sys.argv[0]\n",
    "# %(filename)s：打印当前执行程序名\n",
    "# %(funcName)s：打印日志的当前函数\n",
    "# %(lineno)d：打印日志的当前行\n",
    "# %(asctime)s：打印日志的时间\n",
    "# %(thread)d：打印线程ID\n",
    "# %(threadName)s：打印线程名称\n",
    "#%(process)d：打印进程ID\n",
    "#%(message)s：打印日志信息\n",
    "FD = logging.FileHandler(\"1.log\")#创建日志文件处理对象\n",
    "SD = logging.StreamHandler()#创建控制台日志处理对象\n",
    "logger.setLevel(logging.DEBUG)\n",
    "logger.addHandler(FD)\n",
    "logger.addHandler(SD)\n",
    "logger.debug(\"let us go\")\n",
    "\n",
    "# logger.info(\"show info message\")"
   ]
  }
 ],
 "metadata": {
  "kernelspec": {
   "display_name": "Python 3",
   "language": "python",
   "name": "python3"
  },
  "language_info": {
   "codemirror_mode": {
    "name": "ipython",
    "version": 3
   },
   "file_extension": ".py",
   "mimetype": "text/x-python",
   "name": "python",
   "nbconvert_exporter": "python",
   "pygments_lexer": "ipython3",
   "version": "3.8.5"
  }
 },
 "nbformat": 4,
 "nbformat_minor": 5
}
