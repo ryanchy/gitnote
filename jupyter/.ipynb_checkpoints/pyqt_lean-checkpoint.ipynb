{
 "cells": [
  {
   "cell_type": "code",
   "execution_count": 11,
   "id": "accomplished-lesbian",
   "metadata": {},
   "outputs": [
    {
     "ename": "SystemExit",
     "evalue": "0",
     "output_type": "error",
     "traceback": [
      "An exception has occurred, use %tb to see the full traceback.\n",
      "\u001b[0;31mSystemExit\u001b[0m\u001b[0;31m:\u001b[0m 0\n"
     ]
    }
   ],
   "source": [
    "#实例1：简单的窗口\n",
    "from PyQt6.QtWidgets import QApplication,QWidget\n",
    "import sys\n",
    " \n",
    "def show_w():\n",
    "    '显示窗口'\n",
    " \n",
    "    app = QApplication(sys.argv) # 所有的PyQt5应用必须创建一个应用（Application）对象。\n",
    "    # sys.argv参数是一个来自命令行的参数列表。\n",
    " \n",
    "    w = QWidget() # Qwidget组件是PyQt5中所有用户界面类的基础类。我们给QWidget提供了默认的构造方法。\n",
    "    # 默认构造方法没有父类。没有父类的widget组件将被作为窗口使用。\n",
    " \n",
    "    w.resize(500, 500) # resize()方法调整了widget组件的大小。它现在是500px宽，500px高。\n",
    "    w.move(500, 100) # move()方法移动widget组件到一个位置，这个位置是屏幕上x=500,y=200的坐标。\n",
    "    w.setWindowTitle('Simple') # 设置了窗口的标题。这个标题显示在标题栏中。\n",
    "    w.show() # show()方法在屏幕上显示出widget。一个widget对象在这里第一次被在内存中创建，并且之后在屏幕上显示。\n",
    " \n",
    "    sys.exit(app.exec()) # 应用进入主循环。在这个地方，事件处理开始执行。主循环用于接收来自窗口触发的事件，\n",
    "    # 并且转发他们到widget应用上处理。如果我们调用exit()方法或主widget组件被销毁，主循环将退出。\n",
    "    # sys.exit()方法确保一个不留垃圾的退出。系统环境将会被通知应用是怎样被结束的。\n",
    " \n",
    "if __name__ == '__main__':\n",
    " \n",
    "    show_w()\n",
    "\n",
    "\n",
    "\n",
    "\n"
   ]
  },
  {
   "cell_type": "code",
   "execution_count": 1,
   "id": "initial-receiver",
   "metadata": {},
   "outputs": [
    {
     "ename": "SystemExit",
     "evalue": "0",
     "output_type": "error",
     "traceback": [
      "An exception has occurred, use %tb to see the full traceback.\n",
      "\u001b[0;31mSystemExit\u001b[0m\u001b[0;31m:\u001b[0m 0\n"
     ]
    },
    {
     "name": "stderr",
     "output_type": "stream",
     "text": [
      "/home/cy/.virtualenvs/venv1/lib/python3.8/site-packages/IPython/core/interactiveshell.py:3445: UserWarning: To exit: use 'exit', 'quit', or Ctrl-D.\n",
      "  warn(\"To exit: use 'exit', 'quit', or Ctrl-D.\", stacklevel=1)\n"
     ]
    }
   ],
   "source": [
    "import sys\n",
    "from PyQt6.QtWidgets import (QWidget, QToolTip, QMessageBox,QTextEdit,QLabel,\n",
    "    QPushButton, QApplication,QMainWindow, QHBoxLayout, QVBoxLayout,QGridLayout,\n",
    "    QLineEdit)\n",
    "from PyQt6.QtGui import QFont,QIcon,QDesktopServices,QAction\n",
    "from PyQt6.QtCore import QCoreApplication\n",
    "class AppIcon(QWidget):\n",
    "    def __init__(self):\n",
    "        super().__init__()\n",
    " \n",
    "#         self.initUI()\n",
    " \n",
    "    def initUI(self):\n",
    "        self.setGeometry(300, 300, 300, 220) # 窗口在屏幕上显示，并设置了它的尺寸。resize()和remove()合而为一的方法。\n",
    "        # 前两个参数定位了窗口的x轴和y轴位置。第三个参数是定义窗口的宽度，第四个参数是定义窗口的高度。\n",
    "        self.setWindowTitle('Icon') # 创建一个窗口标题\n",
    "        self.setWindowIcon(QIcon('t1.jpg')) # 创建一个QIcon对象并接收一个我们要显示的图片路径作为参数。\n",
    "        self.show()\n",
    " \n",
    " \n",
    "if __name__ == '__main__':\n",
    "    app = QApplication(sys.argv)\n",
    "    ex = AppIcon()\n",
    "    ex.initUI()\n",
    "    sys.exit(app.exec())"
   ]
  },
  {
   "cell_type": "code",
   "execution_count": null,
   "id": "micro-reverse",
   "metadata": {},
   "outputs": [],
   "source": []
  }
 ],
 "metadata": {
  "kernelspec": {
   "display_name": "Python 3",
   "language": "python",
   "name": "python3"
  },
  "language_info": {
   "codemirror_mode": {
    "name": "ipython",
    "version": 3
   },
   "file_extension": ".py",
   "mimetype": "text/x-python",
   "name": "python",
   "nbconvert_exporter": "python",
   "pygments_lexer": "ipython3",
   "version": "3.8.5"
  }
 },
 "nbformat": 4,
 "nbformat_minor": 5
}
