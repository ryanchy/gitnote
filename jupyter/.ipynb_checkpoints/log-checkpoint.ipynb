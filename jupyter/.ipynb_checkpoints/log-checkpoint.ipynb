{
 "cells": [
  {
   "cell_type": "code",
   "execution_count": 13,
   "id": "specific-jacob",
   "metadata": {},
   "outputs": [
    {
     "name": "stderr",
     "output_type": "stream",
     "text": [
      "2021-03-23 21:57:44,380 - 13 - __main__ - WARNING - Something maybe fail.\n",
      "2021-03-23 21:57:44,380 - 13 - __main__ - WARNING - Something maybe fail.\n",
      "2021-03-23 21:57:44,380 - 13 - __main__ - WARNING - Something maybe fail.\n",
      "2021-03-23 21:57:44,380 - 13 - __main__ - WARNING - Something maybe fail.\n",
      "2021-03-23 21:57:44,380 - 13 - __main__ - WARNING - Something maybe fail.\n",
      "2021-03-23 21:57:44,380 - 13 - __main__ - WARNING - Something maybe fail.\n",
      "2021-03-23 21:57:44,380 - 13 - __main__ - WARNING - Something maybe fail.\n",
      "2021-03-23 21:57:44,380 - 13 - __main__ - WARNING - Something maybe fail.\n",
      "2021-03-23 21:57:44,380 - 13 - __main__ - WARNING - Something maybe fail.\n",
      "2021-03-23 21:57:44,380 - 13 - __main__ - WARNING - Something maybe fail.\n",
      "2021-03-23 21:57:44,380 - 13 - __main__ - WARNING - Something maybe fail.\n",
      "2021-03-23 21:57:44,380 - 13 - __main__ - WARNING - Something maybe fail.\n",
      "WARNING:__main__:Something maybe fail.\n",
      "2021-03-23 21:57:44,514 - 15 - __main__ - WARNING - dosomething\n",
      "2021-03-23 21:57:44,514 - 15 - __main__ - WARNING - dosomething\n",
      "2021-03-23 21:57:44,514 - 15 - __main__ - WARNING - dosomething\n",
      "2021-03-23 21:57:44,514 - 15 - __main__ - WARNING - dosomething\n",
      "2021-03-23 21:57:44,514 - 15 - __main__ - WARNING - dosomething\n",
      "2021-03-23 21:57:44,514 - 15 - __main__ - WARNING - dosomething\n",
      "2021-03-23 21:57:44,514 - 15 - __main__ - WARNING - dosomething\n",
      "2021-03-23 21:57:44,514 - 15 - __main__ - WARNING - dosomething\n",
      "2021-03-23 21:57:44,514 - 15 - __main__ - WARNING - dosomething\n",
      "2021-03-23 21:57:44,514 - 15 - __main__ - WARNING - dosomething\n",
      "2021-03-23 21:57:44,514 - 15 - __main__ - WARNING - dosomething\n",
      "2021-03-23 21:57:44,514 - 15 - __main__ - WARNING - dosomething\n",
      "WARNING:__main__:dosomething\n"
     ]
    }
   ],
   "source": [
    "import logging\n",
    "# logging.basicConfig(level = logging.INFO,format = '%(asctime)s - %(lineno)d - %(name)s - %(levelname)s - %(message)s')\n",
    "logger = logging.getLogger(__name__)\n",
    "formatter = logging.Formatter('%(asctime)s - %(lineno)d - %(name)s - %(levelname)s - %(message)s')\n",
    "SH = logging.StreamHandler()\n",
    "SH.setFormatter(formatter)\n",
    "SH.setLevel(logging.DEBUG)\n",
    "logger.addHandler(SH)\n",
    "\n",
    "if __name__ == \"__main__\":\n",
    "    logger.info(\"Start print log\")\n",
    "    logger.debug(\"Do something\")\n",
    "    logger.warning(\"Something maybe fail.\")\n",
    "    logger.info(\"Finish\")\n",
    "    logger.warning(\"dosomething\")"
   ]
  },
  {
   "cell_type": "code",
   "execution_count": 2,
   "id": "protecting-modern",
   "metadata": {},
   "outputs": [
    {
     "name": "stderr",
     "output_type": "stream",
     "text": [
      "2021-03-23 21:52:04,441 - 4 - __main__ - WARNING - Something maybe fail.\n"
     ]
    },
    {
     "name": "stdout",
     "output_type": "stream",
     "text": [
      "log.ipynb\n"
     ]
    }
   ],
   "source": [
    "logger.info(\"Start print log\")\n",
    "logger.debug(\"Do something\")\n",
    "print(\"log.ipynb\")\n",
    "logger.warning(\"Something maybe fail.\")\n",
    "logging.info(\"Finish\")"
   ]
  },
  {
   "cell_type": "code",
   "execution_count": null,
   "id": "inappropriate-ghana",
   "metadata": {},
   "outputs": [],
   "source": []
  },
  {
   "cell_type": "code",
   "execution_count": null,
   "id": "distant-timer",
   "metadata": {},
   "outputs": [],
   "source": []
  },
  {
   "cell_type": "code",
   "execution_count": null,
   "id": "analyzed-valley",
   "metadata": {},
   "outputs": [],
   "source": []
  },
  {
   "cell_type": "code",
   "execution_count": null,
   "id": "second-campaign",
   "metadata": {},
   "outputs": [],
   "source": []
  }
 ],
 "metadata": {
  "kernelspec": {
   "display_name": "Python 3",
   "language": "python",
   "name": "python3"
  },
  "language_info": {
   "codemirror_mode": {
    "name": "ipython",
    "version": 3
   },
   "file_extension": ".py",
   "mimetype": "text/x-python",
   "name": "python",
   "nbconvert_exporter": "python",
   "pygments_lexer": "ipython3",
   "version": "3.8.5"
  }
 },
 "nbformat": 4,
 "nbformat_minor": 5
}
