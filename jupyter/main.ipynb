{
 "cells": [
  {
   "cell_type": "code",
   "execution_count": null,
   "id": "olympic-appraisal",
   "metadata": {},
   "outputs": [],
   "source": [
    "# -*- coding: utf-8 -*-\n",
    "\n",
    "\n",
    "\"\"\"\n",
    "@author: Xu Gaoxiang\n",
    "@license: Apache V2\n",
    "@email: xugx.ai@gmail.com\n",
    "@site: https://www.xugaoxiang.com\n",
    "@software: PyCharm\n",
    "@file: main.py\n",
    "@time: 3/21/2019 11:13 AM\n",
    "\"\"\"\n",
    "\n",
    "import sys\n",
    "\n",
    "from PyQt5.QtWidgets import QApplication, QMainWindow\n",
    "\n",
    "from tran import *\n",
    "\n",
    "if __name__ == '__main__':\n",
    "    '''\n",
    "    主函数\n",
    "    '''\n",
    "\n",
    "    app = QApplication(sys.argv)\n",
    "    mainWindow = QMainWindow()\n",
    "    ui = Ui_HeaderT()\n",
    "    ui.setupUi(mainWindow)\n",
    "    mainWindow.show()\n",
    "    sys.exit(app.exec_())"
   ]
  },
  {
   "cell_type": "code",
   "execution_count": null,
   "id": "current-airplane",
   "metadata": {},
   "outputs": [],
   "source": []
  },
  {
   "cell_type": "code",
   "execution_count": null,
   "id": "clear-renewal",
   "metadata": {},
   "outputs": [],
   "source": []
  }
 ],
 "metadata": {
  "kernelspec": {
   "display_name": "Python 3",
   "language": "python",
   "name": "python3"
  },
  "language_info": {
   "codemirror_mode": {
    "name": "ipython",
    "version": 3
   },
   "file_extension": ".py",
   "mimetype": "text/x-python",
   "name": "python",
   "nbconvert_exporter": "python",
   "pygments_lexer": "ipython3",
   "version": "3.8.5"
  }
 },
 "nbformat": 4,
 "nbformat_minor": 5
}
