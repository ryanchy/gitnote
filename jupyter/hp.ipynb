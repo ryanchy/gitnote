{
 "cells": [
  {
   "cell_type": "code",
   "execution_count": 2,
   "id": "cc4c0206",
   "metadata": {},
   "outputs": [],
   "source": [
    "#!/usr/bin/env python\n",
    "# -*- encoding: utf-8 -*-\n",
    "# Created on 2021-04-24 23:18:57\n",
    "# Project: hp\n",
    "\n",
    "from pyspider.libs.base_handler import *\n",
    "\n",
    "\n",
    "class Handler(BaseHandler):\n",
    "    \n",
    "    \n",
    "#迭代生成器\n",
    "    def xrange(min,max=0):\n",
    "        o = 0\n",
    "        if max == 0:\n",
    "            while o < min:\n",
    "                yield o\n",
    "                o += 1\n",
    "        else:\n",
    "            if min < max:\n",
    "                while min < max:\n",
    "                    yield min\n",
    "                    min += 1\n",
    "            else:\n",
    "                print(\"输入值非法\")\n",
    "    \n",
    "    \n",
    "#字典转换器 \n",
    "    def header_dict(): \n",
    "        headers = dict([line.split(\": \",1) for line in \"\"\"{}\"\"\".format(input(\"输入要转换为字典的字符串:\\r\")).split(\"\\n\")])    \n",
    "        return headers\n",
    "\n",
    "\n",
    "    crawl_config = {\n",
    "    }\n",
    "\n",
    "    @every(minutes=24 * 60)\n",
    "    def on_start(self):\n",
    "        self.crawl('__START_URL__', callback=self.index_page)\n",
    "\n",
    "    @config(age=10 * 24 * 60 * 60)\n",
    "    def index_page(self, response):\n",
    "        for each in response.doc('a[href^=\"http\"]').items():\n",
    "            self.crawl(each.attr.href, callback=self.detail_page)\n",
    "\n",
    "    @config(priority=2)\n",
    "    def detail_page(self, response):\n",
    "        return {\n",
    "            \"url\": response.url,\n",
    "            \"title\": response.doc('title').text(),\n",
    "        }"
   ]
  },
  {
   "cell_type": "code",
   "execution_count": null,
   "id": "d26c374f",
   "metadata": {},
   "outputs": [],
   "source": []
  }
 ],
 "metadata": {
  "kernelspec": {
   "display_name": "Python 3",
   "language": "python",
   "name": "python3"
  },
  "language_info": {
   "codemirror_mode": {
    "name": "ipython",
    "version": 3
   },
   "file_extension": ".py",
   "mimetype": "text/x-python",
   "name": "python",
   "nbconvert_exporter": "python",
   "pygments_lexer": "ipython3",
   "version": "3.7.6"
  }
 },
 "nbformat": 4,
 "nbformat_minor": 5
}
